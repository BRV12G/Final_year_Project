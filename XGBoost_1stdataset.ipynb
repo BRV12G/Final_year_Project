{
  "nbformat": 4,
  "nbformat_minor": 0,
  "metadata": {
    "colab": {
      "provenance": [],
      "gpuType": "T4",
      "authorship_tag": "ABX9TyNlSAHaRZUeHpxEjGDvBqAg",
      "include_colab_link": true
    },
    "kernelspec": {
      "name": "python3",
      "display_name": "Python 3"
    },
    "language_info": {
      "name": "python"
    },
    "accelerator": "GPU"
  },
  "cells": [
    {
      "cell_type": "markdown",
      "metadata": {
        "id": "view-in-github",
        "colab_type": "text"
      },
      "source": [
        "<a href=\"https://colab.research.google.com/github/BRV12G/Final_year_Project/blob/main/XGBoost_1stdataset.ipynb\" target=\"_parent\"><img src=\"https://colab.research.google.com/assets/colab-badge.svg\" alt=\"Open In Colab\"/></a>"
      ]
    },
    {
      "cell_type": "code",
      "source": [
        "import tensorflow as tf\n",
        "from tensorflow.keras.layers import Input, LSTM, Dense, Embedding\n",
        "from tensorflow.keras.models import Model\n",
        "\n",
        "# Parameters\n",
        "latent_dim = 256  # Dimension of LSTM\n",
        "num_tokens_input = X_train.shape[1]  # Number of input features\n",
        "num_tokens_output = len(y_le.classes_)  # Number of unique nutritional advice labels\n",
        "\n",
        "# Encoder\n",
        "encoder_inputs = Input(shape=(num_tokens_input,))\n",
        "encoder_lstm = LSTM(latent_dim, return_state=True)\n",
        "encoder_outputs, state_h, state_c = encoder_lstm(encoder_inputs)\n",
        "encoder_states = [state_h, state_c]\n",
        "\n",
        "# Decoder\n",
        "decoder_inputs = Input(shape=(None,))  # For the target sequence (nutritional advice tokens)\n",
        "decoder_embedding = Embedding(num_tokens_output, latent_dim)(decoder_inputs)\n",
        "decoder_lstm = LSTM(latent_dim, return_sequences=True, return_state=True)\n",
        "decoder_outputs, _, _ = decoder_lstm(decoder_embedding, initial_state=encoder_states)\n",
        "decoder_dense = Dense(num_tokens_output, activation='softmax')\n",
        "decoder_outputs = decoder_dense(decoder_outputs)\n",
        "\n",
        "# Seq2Seq Model\n",
        "model = Model([encoder_inputs, decoder_inputs], decoder_outputs)\n",
        "\n",
        "# Compile the model\n",
        "model.compile(optimizer='adam', loss='sparse_categorical_crossentropy', metrics=['accuracy'])\n"
      ],
      "metadata": {
        "colab": {
          "base_uri": "https://localhost:8080/",
          "height": 397
        },
        "id": "MADHCeMybJyE",
        "outputId": "1a0689b5-9291-4ab4-a627-a5a6975f1199"
      },
      "execution_count": null,
      "outputs": [
        {
          "output_type": "error",
          "ename": "ValueError",
          "evalue": "Input 0 of layer \"lstm\" is incompatible with the layer: expected ndim=3, found ndim=2. Full shape received: (None, 15)",
          "traceback": [
            "\u001b[0;31m---------------------------------------------------------------------------\u001b[0m",
            "\u001b[0;31mValueError\u001b[0m                                Traceback (most recent call last)",
            "\u001b[0;32m<ipython-input-5-4b5832637032>\u001b[0m in \u001b[0;36m<cell line: 13>\u001b[0;34m()\u001b[0m\n\u001b[1;32m     11\u001b[0m \u001b[0mencoder_inputs\u001b[0m \u001b[0;34m=\u001b[0m \u001b[0mInput\u001b[0m\u001b[0;34m(\u001b[0m\u001b[0mshape\u001b[0m\u001b[0;34m=\u001b[0m\u001b[0;34m(\u001b[0m\u001b[0mnum_tokens_input\u001b[0m\u001b[0;34m,\u001b[0m\u001b[0;34m)\u001b[0m\u001b[0;34m)\u001b[0m\u001b[0;34m\u001b[0m\u001b[0;34m\u001b[0m\u001b[0m\n\u001b[1;32m     12\u001b[0m \u001b[0mencoder_lstm\u001b[0m \u001b[0;34m=\u001b[0m \u001b[0mLSTM\u001b[0m\u001b[0;34m(\u001b[0m\u001b[0mlatent_dim\u001b[0m\u001b[0;34m,\u001b[0m \u001b[0mreturn_state\u001b[0m\u001b[0;34m=\u001b[0m\u001b[0;32mTrue\u001b[0m\u001b[0;34m)\u001b[0m\u001b[0;34m\u001b[0m\u001b[0;34m\u001b[0m\u001b[0m\n\u001b[0;32m---> 13\u001b[0;31m \u001b[0mencoder_outputs\u001b[0m\u001b[0;34m,\u001b[0m \u001b[0mstate_h\u001b[0m\u001b[0;34m,\u001b[0m \u001b[0mstate_c\u001b[0m \u001b[0;34m=\u001b[0m \u001b[0mencoder_lstm\u001b[0m\u001b[0;34m(\u001b[0m\u001b[0mencoder_inputs\u001b[0m\u001b[0;34m)\u001b[0m\u001b[0;34m\u001b[0m\u001b[0;34m\u001b[0m\u001b[0m\n\u001b[0m\u001b[1;32m     14\u001b[0m \u001b[0mencoder_states\u001b[0m \u001b[0;34m=\u001b[0m \u001b[0;34m[\u001b[0m\u001b[0mstate_h\u001b[0m\u001b[0;34m,\u001b[0m \u001b[0mstate_c\u001b[0m\u001b[0;34m]\u001b[0m\u001b[0;34m\u001b[0m\u001b[0;34m\u001b[0m\u001b[0m\n\u001b[1;32m     15\u001b[0m \u001b[0;34m\u001b[0m\u001b[0m\n",
            "\u001b[0;32m/usr/local/lib/python3.10/dist-packages/keras/src/utils/traceback_utils.py\u001b[0m in \u001b[0;36merror_handler\u001b[0;34m(*args, **kwargs)\u001b[0m\n\u001b[1;32m    120\u001b[0m             \u001b[0;31m# To get the full stack trace, call:\u001b[0m\u001b[0;34m\u001b[0m\u001b[0;34m\u001b[0m\u001b[0m\n\u001b[1;32m    121\u001b[0m             \u001b[0;31m# `keras.config.disable_traceback_filtering()`\u001b[0m\u001b[0;34m\u001b[0m\u001b[0;34m\u001b[0m\u001b[0m\n\u001b[0;32m--> 122\u001b[0;31m             \u001b[0;32mraise\u001b[0m \u001b[0me\u001b[0m\u001b[0;34m.\u001b[0m\u001b[0mwith_traceback\u001b[0m\u001b[0;34m(\u001b[0m\u001b[0mfiltered_tb\u001b[0m\u001b[0;34m)\u001b[0m \u001b[0;32mfrom\u001b[0m \u001b[0;32mNone\u001b[0m\u001b[0;34m\u001b[0m\u001b[0;34m\u001b[0m\u001b[0m\n\u001b[0m\u001b[1;32m    123\u001b[0m         \u001b[0;32mfinally\u001b[0m\u001b[0;34m:\u001b[0m\u001b[0;34m\u001b[0m\u001b[0;34m\u001b[0m\u001b[0m\n\u001b[1;32m    124\u001b[0m             \u001b[0;32mdel\u001b[0m \u001b[0mfiltered_tb\u001b[0m\u001b[0;34m\u001b[0m\u001b[0;34m\u001b[0m\u001b[0m\n",
            "\u001b[0;32m/usr/local/lib/python3.10/dist-packages/keras/src/layers/input_spec.py\u001b[0m in \u001b[0;36massert_input_compatibility\u001b[0;34m(input_spec, inputs, layer_name)\u001b[0m\n\u001b[1;32m    184\u001b[0m         \u001b[0;32mif\u001b[0m \u001b[0mspec\u001b[0m\u001b[0;34m.\u001b[0m\u001b[0mndim\u001b[0m \u001b[0;32mis\u001b[0m \u001b[0;32mnot\u001b[0m \u001b[0;32mNone\u001b[0m \u001b[0;32mand\u001b[0m \u001b[0;32mnot\u001b[0m \u001b[0mspec\u001b[0m\u001b[0;34m.\u001b[0m\u001b[0mallow_last_axis_squeeze\u001b[0m\u001b[0;34m:\u001b[0m\u001b[0;34m\u001b[0m\u001b[0;34m\u001b[0m\u001b[0m\n\u001b[1;32m    185\u001b[0m             \u001b[0;32mif\u001b[0m \u001b[0mndim\u001b[0m \u001b[0;34m!=\u001b[0m \u001b[0mspec\u001b[0m\u001b[0;34m.\u001b[0m\u001b[0mndim\u001b[0m\u001b[0;34m:\u001b[0m\u001b[0;34m\u001b[0m\u001b[0;34m\u001b[0m\u001b[0m\n\u001b[0;32m--> 186\u001b[0;31m                 raise ValueError(\n\u001b[0m\u001b[1;32m    187\u001b[0m                     \u001b[0;34mf'Input {input_index} of layer \"{layer_name}\" '\u001b[0m\u001b[0;34m\u001b[0m\u001b[0;34m\u001b[0m\u001b[0m\n\u001b[1;32m    188\u001b[0m                     \u001b[0;34m\"is incompatible with the layer: \"\u001b[0m\u001b[0;34m\u001b[0m\u001b[0;34m\u001b[0m\u001b[0m\n",
            "\u001b[0;31mValueError\u001b[0m: Input 0 of layer \"lstm\" is incompatible with the layer: expected ndim=3, found ndim=2. Full shape received: (None, 15)"
          ]
        }
      ]
    },
    {
      "cell_type": "code",
      "source": [
        "import numpy as np\n",
        "from tensorflow.keras.layers import Input, LSTM\n",
        "from tensorflow.keras.models import Model\n",
        "\n",
        "# Define parameters\n",
        "latent_dim = 256\n",
        "num_tokens_input = 15  # number of features\n",
        "\n",
        "# Define the encoder input with the correct shape for LSTM (timesteps, features)\n",
        "encoder_inputs = Input(shape=(1, num_tokens_input))  # Adjusting to have one timestep and 15 features\n",
        "encoder_lstm = LSTM(latent_dim, return_state=True)\n",
        "encoder_outputs, state_h, state_c = encoder_lstm(encoder_inputs)\n",
        "encoder_states = [state_h, state_c]\n",
        "\n",
        "# You can now proceed with the rest of your model setup\n",
        "encoder_model = Model(encoder_inputs, encoder_states)\n",
        "encoder_model.summary()\n"
      ],
      "metadata": {
        "colab": {
          "base_uri": "https://localhost:8080/",
          "height": 209
        },
        "id": "qMzAzqU_cjPm",
        "outputId": "b6269491-e58d-4fe3-bddb-9e4230883105"
      },
      "execution_count": null,
      "outputs": [
        {
          "output_type": "display_data",
          "data": {
            "text/plain": [
              "\u001b[1mModel: \"functional\"\u001b[0m\n"
            ],
            "text/html": [
              "<pre style=\"white-space:pre;overflow-x:auto;line-height:normal;font-family:Menlo,'DejaVu Sans Mono',consolas,'Courier New',monospace\"><span style=\"font-weight: bold\">Model: \"functional\"</span>\n",
              "</pre>\n"
            ]
          },
          "metadata": {}
        },
        {
          "output_type": "display_data",
          "data": {
            "text/plain": [
              "┏━━━━━━━━━━━━━━━━━━━━━━━━━━━━━━━━━━━━━━┳━━━━━━━━━━━━━━━━━━━━━━━━━━━━━┳━━━━━━━━━━━━━━━━━┓\n",
              "┃\u001b[1m \u001b[0m\u001b[1mLayer (type)                        \u001b[0m\u001b[1m \u001b[0m┃\u001b[1m \u001b[0m\u001b[1mOutput Shape               \u001b[0m\u001b[1m \u001b[0m┃\u001b[1m \u001b[0m\u001b[1m        Param #\u001b[0m\u001b[1m \u001b[0m┃\n",
              "┡━━━━━━━━━━━━━━━━━━━━━━━━━━━━━━━━━━━━━━╇━━━━━━━━━━━━━━━━━━━━━━━━━━━━━╇━━━━━━━━━━━━━━━━━┩\n",
              "│ input_layer_1 (\u001b[38;5;33mInputLayer\u001b[0m)           │ (\u001b[38;5;45mNone\u001b[0m, \u001b[38;5;34m1\u001b[0m, \u001b[38;5;34m15\u001b[0m)               │               \u001b[38;5;34m0\u001b[0m │\n",
              "├──────────────────────────────────────┼─────────────────────────────┼─────────────────┤\n",
              "│ lstm_1 (\u001b[38;5;33mLSTM\u001b[0m)                        │ [(\u001b[38;5;45mNone\u001b[0m, \u001b[38;5;34m256\u001b[0m), (\u001b[38;5;45mNone\u001b[0m, \u001b[38;5;34m256\u001b[0m),  │         \u001b[38;5;34m278,528\u001b[0m │\n",
              "│                                      │ (\u001b[38;5;45mNone\u001b[0m, \u001b[38;5;34m256\u001b[0m)]                │                 │\n",
              "└──────────────────────────────────────┴─────────────────────────────┴─────────────────┘\n"
            ],
            "text/html": [
              "<pre style=\"white-space:pre;overflow-x:auto;line-height:normal;font-family:Menlo,'DejaVu Sans Mono',consolas,'Courier New',monospace\">┏━━━━━━━━━━━━━━━━━━━━━━━━━━━━━━━━━━━━━━┳━━━━━━━━━━━━━━━━━━━━━━━━━━━━━┳━━━━━━━━━━━━━━━━━┓\n",
              "┃<span style=\"font-weight: bold\"> Layer (type)                         </span>┃<span style=\"font-weight: bold\"> Output Shape                </span>┃<span style=\"font-weight: bold\">         Param # </span>┃\n",
              "┡━━━━━━━━━━━━━━━━━━━━━━━━━━━━━━━━━━━━━━╇━━━━━━━━━━━━━━━━━━━━━━━━━━━━━╇━━━━━━━━━━━━━━━━━┩\n",
              "│ input_layer_1 (<span style=\"color: #0087ff; text-decoration-color: #0087ff\">InputLayer</span>)           │ (<span style=\"color: #00d7ff; text-decoration-color: #00d7ff\">None</span>, <span style=\"color: #00af00; text-decoration-color: #00af00\">1</span>, <span style=\"color: #00af00; text-decoration-color: #00af00\">15</span>)               │               <span style=\"color: #00af00; text-decoration-color: #00af00\">0</span> │\n",
              "├──────────────────────────────────────┼─────────────────────────────┼─────────────────┤\n",
              "│ lstm_1 (<span style=\"color: #0087ff; text-decoration-color: #0087ff\">LSTM</span>)                        │ [(<span style=\"color: #00d7ff; text-decoration-color: #00d7ff\">None</span>, <span style=\"color: #00af00; text-decoration-color: #00af00\">256</span>), (<span style=\"color: #00d7ff; text-decoration-color: #00d7ff\">None</span>, <span style=\"color: #00af00; text-decoration-color: #00af00\">256</span>),  │         <span style=\"color: #00af00; text-decoration-color: #00af00\">278,528</span> │\n",
              "│                                      │ (<span style=\"color: #00d7ff; text-decoration-color: #00d7ff\">None</span>, <span style=\"color: #00af00; text-decoration-color: #00af00\">256</span>)]                │                 │\n",
              "└──────────────────────────────────────┴─────────────────────────────┴─────────────────┘\n",
              "</pre>\n"
            ]
          },
          "metadata": {}
        },
        {
          "output_type": "display_data",
          "data": {
            "text/plain": [
              "\u001b[1m Total params: \u001b[0m\u001b[38;5;34m278,528\u001b[0m (1.06 MB)\n"
            ],
            "text/html": [
              "<pre style=\"white-space:pre;overflow-x:auto;line-height:normal;font-family:Menlo,'DejaVu Sans Mono',consolas,'Courier New',monospace\"><span style=\"font-weight: bold\"> Total params: </span><span style=\"color: #00af00; text-decoration-color: #00af00\">278,528</span> (1.06 MB)\n",
              "</pre>\n"
            ]
          },
          "metadata": {}
        },
        {
          "output_type": "display_data",
          "data": {
            "text/plain": [
              "\u001b[1m Trainable params: \u001b[0m\u001b[38;5;34m278,528\u001b[0m (1.06 MB)\n"
            ],
            "text/html": [
              "<pre style=\"white-space:pre;overflow-x:auto;line-height:normal;font-family:Menlo,'DejaVu Sans Mono',consolas,'Courier New',monospace\"><span style=\"font-weight: bold\"> Trainable params: </span><span style=\"color: #00af00; text-decoration-color: #00af00\">278,528</span> (1.06 MB)\n",
              "</pre>\n"
            ]
          },
          "metadata": {}
        },
        {
          "output_type": "display_data",
          "data": {
            "text/plain": [
              "\u001b[1m Non-trainable params: \u001b[0m\u001b[38;5;34m0\u001b[0m (0.00 B)\n"
            ],
            "text/html": [
              "<pre style=\"white-space:pre;overflow-x:auto;line-height:normal;font-family:Menlo,'DejaVu Sans Mono',consolas,'Courier New',monospace\"><span style=\"font-weight: bold\"> Non-trainable params: </span><span style=\"color: #00af00; text-decoration-color: #00af00\">0</span> (0.00 B)\n",
              "</pre>\n"
            ]
          },
          "metadata": {}
        }
      ]
    },
    {
      "cell_type": "code",
      "source": [
        "import pandas as pd\n",
        "from sklearn.preprocessing import LabelEncoder, StandardScaler\n",
        "from sklearn.model_selection import train_test_split\n",
        "\n",
        "# Load your dataset\n",
        "# df = pd.read_csv('your_data.csv')\n",
        "\n",
        "# Identify all categorical columns\n",
        "categorical_columns = ['Gender', 'Occupation', 'Quality of Sleep',\n",
        "                       'Physical Activity Level', 'Sleep Disorder',\n",
        "                       'Health Status', 'BMI Category', 'Blood Pressure Category',\n",
        "                       'Stress Level']\n",
        "\n",
        "# Encode all categorical columns\n",
        "label_encoders = {}\n",
        "for column in categorical_columns:\n",
        "    if df[column].dtype == 'object':  # Only encode columns that are still non-numeric\n",
        "        le = LabelEncoder()\n",
        "        df[column] = le.fit_transform(df[column])\n",
        "        label_encoders[column] = le\n",
        "\n",
        "# Drop irrelevant columns for training\n",
        "X = df.drop(columns=['Person ID', 'Nutritional Needs'])\n",
        "\n",
        "# Scale the features\n",
        "scaler = StandardScaler()\n",
        "X_scaled = scaler.fit_transform(X)\n",
        "\n",
        "# Encode the target (Nutritional Needs)\n",
        "y = df['Nutritional Needs']\n",
        "y_le = LabelEncoder()\n",
        "y = y_le.fit_transform(y)\n",
        "\n",
        "# Split into train and test sets\n",
        "X_train, X_test, y_train, y_test = train_test_split(X_scaled, y, test_size=0.2, random_state=42)\n",
        "\n",
        "# Now you can proceed with model training\n"
      ],
      "metadata": {
        "id": "Cs923TAU3KHo"
      },
      "execution_count": null,
      "outputs": []
    },
    {
      "cell_type": "code",
      "source": [
        "import xgboost as xgb\n",
        "from sklearn.metrics import accuracy_score, precision_score, recall_score, f1_score, classification_report\n",
        "\n",
        "# Initialize XGBoost classifier\n",
        "xgb_model = xgb.XGBClassifier(random_state=42)\n",
        "\n",
        "# Train the model\n",
        "xgb_model.fit(X_train, y_train)\n",
        "\n",
        "# Make predictions on the test set\n",
        "y_pred = xgb_model.predict(X_test)\n",
        "\n",
        "# Calculate evaluation metrics\n",
        "accuracy = accuracy_score(y_test, y_pred)\n",
        "precision = precision_score(y_test, y_pred, average='weighted')\n",
        "recall = recall_score(y_test, y_pred, average='weighted')\n",
        "f1 = f1_score(y_test, y_pred, average='weighted')\n",
        "\n",
        "# Print out the evaluation metrics\n",
        "print(f'Accuracy: {accuracy:.4f}')\n",
        "print(f'Precision: {precision:.4f}')\n",
        "print(f'Recall: {recall:.4f}')\n",
        "print(f'F1 Score: {f1:.4f}')\n",
        "\n",
        "# Optional: print the full classification report\n",
        "print(\"\\nClassification Report:\")\n",
        "print(classification_report(y_test, y_pred))\n",
        "\n",
        "# Feature importance plot (optional but useful)\n",
        "import matplotlib.pyplot as plt\n",
        "\n",
        "xgb.plot_importance(xgb_model)\n",
        "plt.show()\n"
      ],
      "metadata": {
        "colab": {
          "base_uri": "https://localhost:8080/",
          "height": 1000
        },
        "id": "NwtQswK-3Lzo",
        "outputId": "ef763bf5-f230-4d59-b9a4-b6f6c45e4db4"
      },
      "execution_count": null,
      "outputs": [
        {
          "output_type": "stream",
          "name": "stdout",
          "text": [
            "Accuracy: 0.9960\n",
            "Precision: 0.9962\n",
            "Recall: 0.9960\n",
            "F1 Score: 0.9960\n",
            "\n",
            "Classification Report:\n",
            "              precision    recall  f1-score   support\n",
            "\n",
            "           0       1.00      1.00      1.00       249\n",
            "           1       1.00      1.00      1.00       261\n",
            "           2       1.00      0.99      0.99        90\n",
            "           3       1.00      1.00      1.00        18\n",
            "           4       1.00      1.00      1.00        15\n",
            "           5       1.00      0.86      0.92         7\n",
            "           6       1.00      1.00      1.00       206\n",
            "           7       1.00      1.00      1.00       188\n",
            "           8       1.00      0.99      0.99        73\n",
            "           9       0.89      0.89      0.89         9\n",
            "          10       0.92      1.00      0.96        11\n",
            "          11       0.50      1.00      0.67         1\n",
            "          12       0.99      1.00      0.99        71\n",
            "          13       1.00      1.00      1.00        73\n",
            "          14       1.00      0.97      0.98        32\n",
            "          15       1.00      1.00      1.00         4\n",
            "          16       1.00      1.00      1.00         3\n",
            "          18       0.99      1.00      1.00       127\n",
            "          19       1.00      1.00      1.00       114\n",
            "          20       1.00      0.98      0.99        43\n",
            "          21       0.67      0.67      0.67         3\n",
            "          22       1.00      0.67      0.80         3\n",
            "          23       1.00      1.00      1.00         1\n",
            "          24       1.00      1.00      1.00       525\n",
            "          25       1.00      1.00      1.00       511\n",
            "          26       1.00      1.00      1.00       188\n",
            "          27       1.00      0.96      0.98        27\n",
            "          28       1.00      1.00      1.00        40\n",
            "          29       0.95      1.00      0.97        18\n",
            "          30       1.00      0.99      0.99       453\n",
            "          31       1.00      1.00      1.00       421\n",
            "          32       0.98      0.99      0.99       177\n",
            "          33       1.00      1.00      1.00        21\n",
            "          34       1.00      1.00      1.00        13\n",
            "          35       1.00      1.00      1.00         4\n",
            "\n",
            "    accuracy                           1.00      4000\n",
            "   macro avg       0.97      0.97      0.97      4000\n",
            "weighted avg       1.00      1.00      1.00      4000\n",
            "\n"
          ]
        },
        {
          "output_type": "display_data",
          "data": {
            "text/plain": [
              "<Figure size 640x480 with 1 Axes>"
            ],
            "image/png": "[encoded data removed]"
          },
          "metadata": {}
        }
      ]
    },
    {
      "cell_type": "code",
      "source": [
        "# Function to test the model with new data\n",
        "def test_model(model, X_test, y_test):\n",
        "    # Make predictions on the test set\n",
        "    y_pred = model.predict(X_test)\n",
        "\n",
        "    # Calculate evaluation metrics\n",
        "    accuracy = accuracy_score(y_test, y_pred)\n",
        "    precision = precision_score(y_test, y_pred, average='weighted')\n",
        "    recall = recall_score(y_test, y_pred, average='weighted')\n",
        "    f1 = f1_score(y_test, y_pred, average='weighted')\n",
        "\n",
        "    # Print out the evaluation metrics\n",
        "    print(f'Accuracy: {accuracy:.4f}')\n",
        "    print(f'Precision: {precision:.4f}')\n",
        "    print(f'Recall: {recall:.4f}')\n",
        "    print(f'F1 Score: {f1:.4f}')\n",
        "\n",
        "    # Optional: print the full classification report\n",
        "    print(\"\\nClassification Report:\")\n",
        "    print(classification_report(y_test, y_pred))\n",
        "\n",
        "# Test the trained model on the test data\n",
        "test_model(xgb_model, X_test, y_test)\n"
      ],
      "metadata": {
        "colab": {
          "base_uri": "https://localhost:8080/"
        },
        "id": "nH3DMrwW4qJb",
        "outputId": "312dd3fb-a14c-4f44-f4c6-a6e608563867"
      },
      "execution_count": null,
      "outputs": [
        {
          "output_type": "stream",
          "name": "stdout",
          "text": [
            "Accuracy: 0.9960\n",
            "Precision: 0.9962\n",
            "Recall: 0.9960\n",
            "F1 Score: 0.9960\n",
            "\n",
            "Classification Report:\n",
            "              precision    recall  f1-score   support\n",
            "\n",
            "           0       1.00      1.00      1.00       249\n",
            "           1       1.00      1.00      1.00       261\n",
            "           2       1.00      0.99      0.99        90\n",
            "           3       1.00      1.00      1.00        18\n",
            "           4       1.00      1.00      1.00        15\n",
            "           5       1.00      0.86      0.92         7\n",
            "           6       1.00      1.00      1.00       206\n",
            "           7       1.00      1.00      1.00       188\n",
            "           8       1.00      0.99      0.99        73\n",
            "           9       0.89      0.89      0.89         9\n",
            "          10       0.92      1.00      0.96        11\n",
            "          11       0.50      1.00      0.67         1\n",
            "          12       0.99      1.00      0.99        71\n",
            "          13       1.00      1.00      1.00        73\n",
            "          14       1.00      0.97      0.98        32\n",
            "          15       1.00      1.00      1.00         4\n",
            "          16       1.00      1.00      1.00         3\n",
            "          18       0.99      1.00      1.00       127\n",
            "          19       1.00      1.00      1.00       114\n",
            "          20       1.00      0.98      0.99        43\n",
            "          21       0.67      0.67      0.67         3\n",
            "          22       1.00      0.67      0.80         3\n",
            "          23       1.00      1.00      1.00         1\n",
            "          24       1.00      1.00      1.00       525\n",
            "          25       1.00      1.00      1.00       511\n",
            "          26       1.00      1.00      1.00       188\n",
            "          27       1.00      0.96      0.98        27\n",
            "          28       1.00      1.00      1.00        40\n",
            "          29       0.95      1.00      0.97        18\n",
            "          30       1.00      0.99      0.99       453\n",
            "          31       1.00      1.00      1.00       421\n",
            "          32       0.98      0.99      0.99       177\n",
            "          33       1.00      1.00      1.00        21\n",
            "          34       1.00      1.00      1.00        13\n",
            "          35       1.00      1.00      1.00         4\n",
            "\n",
            "    accuracy                           1.00      4000\n",
            "   macro avg       0.97      0.97      0.97      4000\n",
            "weighted avg       1.00      1.00      1.00      4000\n",
            "\n"
          ]
        }
      ]
    },
    {
      "cell_type": "code",
      "source": [
        "from sklearn.preprocessing import LabelEncoder\n",
        "import numpy as np\n",
        "\n",
        "# Function to safely encode unseen labels\n",
        "def safe_label_encode(label_encoder, value):\n",
        "    try:\n",
        "        # Attempt to encode the value\n",
        "        return label_encoder.transform([value])[0]\n",
        "    except ValueError:\n",
        "        # If the value is unseen, handle it (e.g., by assigning it a default value like -1)\n",
        "        print(f\"Warning: '{value}' is an unseen label, assigning default value.\")\n",
        "        return -1  # Assign a default value or handle it differently\n",
        "\n",
        "# Function to preprocess user input data\n",
        "def preprocess_input_data(user_input, label_encoders, scaler, feature_columns):\n",
        "    # Convert user input into DataFrame (make sure the same columns as in the training set)\n",
        "    user_input_df = pd.DataFrame([user_input])\n",
        "\n",
        "    # Ensure that all columns are present, adding missing columns with default values (e.g., 0 or 'Unknown')\n",
        "    for column in feature_columns:\n",
        "        if column not in user_input_df.columns:\n",
        "            if column in label_encoders:  # If the column is categorical, fill with a default category\n",
        "                user_input_df[column] = ['Unknown']\n",
        "            else:  # If the column is numerical, fill with a default value (e.g., 0)\n",
        "                user_input_df[column] = [0]\n",
        "\n",
        "    # Reorder columns to match the training order\n",
        "    user_input_df = user_input_df[feature_columns]\n",
        "\n",
        "    # Encode categorical columns using label encoders\n",
        "    for column in label_encoders:\n",
        "        if user_input_df[column].dtype == 'object':  # Apply encoding only to object columns\n",
        "            user_input_df[column] = user_input_df[column].apply(lambda x: safe_label_encode(label_encoders[column], x))\n",
        "\n",
        "    # Scale the numerical columns\n",
        "    user_input_scaled = scaler.transform(user_input_df)\n",
        "\n",
        "    return user_input_scaled\n",
        "\n",
        "# Define the required columns (the features the model was trained on)\n",
        "feature_columns = [\n",
        "    'Gender', 'Age', 'Occupation', 'Sleep Duration', 'Quality of Sleep',\n",
        "    'Physical Activity Level', 'Stress Level', 'BMI Category',\n",
        "    'Blood Pressure Category', 'Systolic', 'Diastolic', 'Heart Rate',\n",
        "    'Daily Steps', 'Sleep Disorder', 'Health Status'\n",
        "]\n",
        "\n",
        "# Example of how to input unseen data:\n",
        "user_input = {\n",
        "    'Gender': 'Male',\n",
        "    'Occupation': 'Engineer',\n",
        "    'Quality of Sleep': 'Good',\n",
        "    'Physical Activity Level': 'High',\n",
        "    'Sleep Disorder': 'No',\n",
        "    'Health Status': 'Healthy',\n",
        "    'BMI Category': 'Normal',\n",
        "    'Blood Pressure Category': 'Normal',\n",
        "    'Stress Level': 'Low',\n",
        "    'Age': 30,\n",
        "    'Sleep Duration': 8,\n",
        "    'Daily Steps': 10000,\n",
        "    'Systolic': 120,\n",
        "    'Diastolic': 80,\n",
        "    'Heart Rate': 70\n",
        "}\n",
        "\n",
        "# Test the model with user input\n",
        "predicted_nutritional_needs = predict_user_input(xgb_model, user_input, label_encoders, scaler, feature_columns)\n",
        "\n",
        "# Print the prediction\n",
        "print(f\"Predicted Nutritional Needs: {predicted_nutritional_needs}\")\n"
      ],
      "metadata": {
        "colab": {
          "base_uri": "https://localhost:8080/"
        },
        "id": "C39uuMR1GvBr",
        "outputId": "ea5134f4-5d90-4678-a0ee-eb8860060d3c"
      },
      "execution_count": null,
      "outputs": [
        {
          "output_type": "stream",
          "name": "stdout",
          "text": [
            "Warning: 'No' is an unseen label, assigning default value.\n",
            "Predicted Nutritional Needs: Low-sodium diet to manage blood pressure. | Maintain regular physical activity to keep heart rate stable. | Great activity level! Maintain a balanced diet to support activity.\n"
          ]
        }
      ]
    },
    {
      "cell_type": "code",
      "source": [
        "def get_user_input():\n",
        "    # Prompt the user for input values\n",
        "    user_input = {}\n",
        "\n",
        "    # Input categorical values\n",
        "    user_input['Gender'] = input(\"Enter Gender (Male/Female): \")\n",
        "    user_input['Occupation'] = input(\"Enter Occupation (e.g., Engineer, Doctor, etc.): \")\n",
        "    user_input['Quality of Sleep'] = input(\"Enter Quality of Sleep (Good/Fair/Poor): \")\n",
        "    user_input['Physical Activity Level'] = input(\"Enter Physical Activity Level (Low/Medium/High): \")\n",
        "    user_input['Sleep Disorder'] = input(\"Enter Sleep Disorder (Yes/No): \")\n",
        "    user_input['Health Status'] = input(\"Enter Health Status (Healthy/Unhealthy): \")\n",
        "    user_input['BMI Category'] = input(\"Enter BMI Category (Underweight/Normal/Overweight/Obese): \")\n",
        "    user_input['Blood Pressure Category'] = input(\"Enter Blood Pressure Category (Low/Normal/High): \")\n",
        "    user_input['Stress Level'] = input(\"Enter Stress Level (Low/Medium/High): \")\n",
        "\n",
        "    # Input numerical values\n",
        "    user_input['Age'] = int(input(\"Enter Age: \"))\n",
        "    user_input['Sleep Duration'] = float(input(\"Enter Sleep Duration (in hours): \"))\n",
        "    user_input['Daily Steps'] = int(input(\"Enter Daily Steps: \"))\n",
        "    user_input['Systolic'] = int(input(\"Enter Systolic Blood Pressure: \"))\n",
        "    user_input['Diastolic'] = int(input(\"Enter Diastolic Blood Pressure: \"))\n",
        "    user_input['Heart Rate'] = int(input(\"Enter Heart Rate: \"))\n",
        "\n",
        "    return user_input\n",
        "\n",
        "# Function to preprocess user input data\n",
        "def preprocess_input_data(user_input, label_encoders, scaler, feature_columns):\n",
        "    # Convert user input into DataFrame (make sure the same columns as in the training set)\n",
        "    user_input_df = pd.DataFrame([user_input])\n",
        "\n",
        "    # Ensure that all columns are present, adding missing columns with default values (e.g., 0 or 'Unknown')\n",
        "    for column in feature_columns:\n",
        "        if column not in user_input_df.columns:\n",
        "            if column in label_encoders:  # If the column is categorical, fill with a default category\n",
        "                user_input_df[column] = ['Unknown']\n",
        "            else:  # If the column is numerical, fill with a default value (e.g., 0)\n",
        "                user_input_df[column] = [0]\n",
        "\n",
        "    # Reorder columns to match the training order\n",
        "    user_input_df = user_input_df[feature_columns]\n",
        "\n",
        "    # Encode categorical columns using label encoders\n",
        "    for column in label_encoders:\n",
        "        if user_input_df[column].dtype == 'object':  # Apply encoding only to object columns\n",
        "            user_input_df[column] = user_input_df[column].apply(lambda x: safe_label_encode(label_encoders[column], x))\n",
        "\n",
        "    # Scale the numerical columns\n",
        "    user_input_scaled = scaler.transform(user_input_df)\n",
        "\n",
        "    return user_input_scaled\n",
        "\n",
        "# Function to safely encode unseen labels\n",
        "def safe_label_encode(label_encoder, value):\n",
        "    try:\n",
        "        return label_encoder.transform([value])[0]\n",
        "    except ValueError:\n",
        "        print(f\"Warning: '{value}' is an unseen label, assigning default value.\")\n",
        "        return -1  # You can choose a different default value here\n",
        "\n",
        "# Function to predict based on user input\n",
        "def predict_user_input(model, user_input, label_encoders, scaler, feature_columns):\n",
        "    # Preprocess the input data\n",
        "    preprocessed_input = preprocess_input_data(user_input, label_encoders, scaler, feature_columns)\n",
        "\n",
        "    # Make the prediction\n",
        "    prediction = model.predict(preprocessed_input)\n",
        "\n",
        "    # Decode the prediction back to the original label\n",
        "    decoded_prediction = y_le.inverse_transform(prediction)\n",
        "\n",
        "    return decoded_prediction[0]\n",
        "\n",
        "# Define the required columns (the features the model was trained on)\n",
        "feature_columns = [\n",
        "    'Gender', 'Age', 'Occupation', 'Sleep Duration', 'Quality of Sleep',\n",
        "    'Physical Activity Level', 'Stress Level', 'BMI Category',\n",
        "    'Blood Pressure Category', 'Systolic', 'Diastolic', 'Heart Rate',\n",
        "    'Daily Steps', 'Sleep Disorder', 'Health Status'\n",
        "]\n",
        "\n",
        "# Get user input\n",
        "user_input = get_user_input()\n",
        "\n",
        "# Test the model with user input\n",
        "predicted_nutritional_needs = predict_user_input(xgb_model, user_input, label_encoders, scaler, feature_columns)\n",
        "\n",
        "# Print the prediction\n",
        "print(f\"Predicted Nutritional Needs: {predicted_nutritional_needs}\")\n"
      ],
      "metadata": {
        "colab": {
          "base_uri": "https://localhost:8080/"
        },
        "id": "o1ldTfxHHDbX",
        "outputId": "994e75bf-ed66-457d-bbb6-7962f68fc670"
      },
      "execution_count": null,
      "outputs": [
        {
          "output_type": "stream",
          "name": "stdout",
          "text": [
            "Enter Gender (Male/Female): male\n",
            "Enter Occupation (e.g., Engineer, Doctor, etc.): Engineer\n",
            "Enter Quality of Sleep (Good/Fair/Poor): Good\n",
            "Enter Physical Activity Level (Low/Medium/High): Low\n",
            "Enter Sleep Disorder (Yes/No): No\n",
            "Enter Health Status (Healthy/Unhealthy): Healthy\n",
            "Enter BMI Category (Underweight/Normal/Overweight/Obese): Obese\n",
            "Enter Blood Pressure Category (Low/Normal/High): Low\n",
            "Enter Stress Level (Low/Medium/High): Low\n",
            "Enter Age: 21\n",
            "Enter Sleep Duration (in hours): 11\n",
            "Enter Daily Steps: 3000\n",
            "Enter Systolic Blood Pressure: 120\n",
            "Enter Diastolic Blood Pressure: 80\n",
            "Enter Heart Rate: 72\n",
            "Warning: 'male' is an unseen label, assigning default value.\n",
            "Warning: 'No' is an unseen label, assigning default value.\n",
            "Warning: 'Low' is an unseen label, assigning default value.\n",
            "Predicted Nutritional Needs: Low-sodium diet to manage blood pressure. | Maintain regular physical activity to keep heart rate stable. | Increase daily physical activity; aim for at least 7000 steps.\n"
          ]
        }
      ]
    },
    {
      "cell_type": "code",
      "source": [
        "def get_user_input():\n",
        "    # Prompt the user for input values, excluding 'Health Status' which will be predicted\n",
        "    user_input = {}\n",
        "\n",
        "    # Input categorical values\n",
        "    user_input['Gender'] = input(\"Enter Gender (Male/Female): \")\n",
        "    user_input['Occupation'] = input(\"Enter Occupation (e.g., Engineer, Doctor, etc.): \")\n",
        "    user_input['Quality of Sleep'] = input(\"Enter Quality of Sleep (Good/Fair/Poor): \")\n",
        "    user_input['Physical Activity Level'] = input(\"Enter Physical Activity Level (Low/Medium/High): \")\n",
        "    user_input['Sleep Disorder'] = input(\"Enter Sleep Disorder (Yes/No): \")\n",
        "    user_input['BMI Category'] = input(\"Enter BMI Category (Underweight/Normal/Overweight/Obese): \")\n",
        "    user_input['Blood Pressure Category'] = input(\"Enter Blood Pressure Category (Low/Normal/High): \")\n",
        "    user_input['Stress Level'] = input(\"Enter Stress Level (Low/Medium/High): \")\n",
        "\n",
        "    # Input numerical values\n",
        "    user_input['Age'] = int(input(\"Enter Age: \"))\n",
        "    user_input['Sleep Duration'] = float(input(\"Enter Sleep Duration (in hours): \"))\n",
        "    user_input['Daily Steps'] = int(input(\"Enter Daily Steps: \"))\n",
        "    user_input['Systolic'] = int(input(\"Enter Systolic Blood Pressure: \"))\n",
        "    user_input['Diastolic'] = int(input(\"Enter Diastolic Blood Pressure: \"))\n",
        "    user_input['Heart Rate'] = int(input(\"Enter Heart Rate: \"))\n",
        "\n",
        "    return user_input\n",
        "\n",
        "# Function to preprocess user input data\n",
        "def preprocess_input_data(user_input, label_encoders, scaler, feature_columns):\n",
        "    # Convert user input into DataFrame (make sure the same columns as in the training set)\n",
        "    user_input_df = pd.DataFrame([user_input])\n",
        "\n",
        "    # Ensure that all columns are present, adding missing columns with default values (e.g., 0 or 'Unknown')\n",
        "    for column in feature_columns:\n",
        "        if column not in user_input_df.columns:\n",
        "            if column in label_encoders:  # If the column is categorical, fill with a default category\n",
        "                user_input_df[column] = ['Unknown']\n",
        "            else:  # If the column is numerical, fill with a default value (e.g., 0)\n",
        "                user_input_df[column] = [0]\n",
        "\n",
        "    # Reorder columns to match the training order\n",
        "    user_input_df = user_input_df[feature_columns]\n",
        "\n",
        "    # Encode categorical columns using label encoders\n",
        "    for column in label_encoders:\n",
        "        if user_input_df[column].dtype == 'object':  # Apply encoding only to object columns\n",
        "            user_input_df[column] = user_input_df[column].apply(lambda x: safe_label_encode(label_encoders[column], x))\n",
        "\n",
        "    # Scale the numerical columns\n",
        "    user_input_scaled = scaler.transform(user_input_df)\n",
        "\n",
        "    return user_input_scaled\n",
        "\n",
        "# Function to safely encode unseen labels\n",
        "def safe_label_encode(label_encoder, value):\n",
        "    try:\n",
        "        return label_encoder.transform([value])[0]\n",
        "    except ValueError:\n",
        "        print(f\"Warning: '{value}' is an unseen label, assigning default value.\")\n",
        "        return -1  # You can choose a different default value here\n",
        "\n",
        "# Function to predict based on user input\n",
        "def predict_user_input(model, user_input, label_encoders, scaler, feature_columns):\n",
        "    # Preprocess the input data\n",
        "    preprocessed_input = preprocess_input_data(user_input, label_encoders, scaler, feature_columns)\n",
        "\n",
        "    # Make the prediction\n",
        "    prediction = model.predict(preprocessed_input)\n",
        "\n",
        "    # Decode the prediction back to the original label\n",
        "    decoded_prediction = y_le.inverse_transform(prediction)\n",
        "\n",
        "    return decoded_prediction[0]\n",
        "\n",
        "# Define the required columns (the features the model was trained on)\n",
        "# The 'Health Status' column is not part of the input as it's predicted by the model\n",
        "feature_columns = [\n",
        "    'Gender', 'Age', 'Occupation', 'Sleep Duration', 'Quality of Sleep',\n",
        "    'Physical Activity Level', 'Stress Level', 'BMI Category',\n",
        "    'Blood Pressure Category', 'Systolic', 'Diastolic', 'Heart Rate',\n",
        "    'Daily Steps', 'Sleep Disorder'\n",
        "]\n",
        "\n",
        "# Get user input\n",
        "user_input = get_user_input()\n",
        "\n",
        "# Test the model with user input\n",
        "predicted_health_status = predict_user_input(xgb_model, user_input, label_encoders, scaler, feature_columns)\n",
        "\n",
        "# Print the prediction\n",
        "print(f\"Predicted Health Status: {predicted_health_status}\")\n"
      ],
      "metadata": {
        "colab": {
          "base_uri": "https://localhost:8080/",
          "height": 804
        },
        "id": "c9L-ub6pIYAG",
        "outputId": "6efff4d6-5420-42a6-c84e-2d1aa97467ac"
      },
      "execution_count": null,
      "outputs": [
        {
          "name": "stdout",
          "output_type": "stream",
          "text": [
            "Enter Gender (Male/Female): Male\n",
            "Enter Occupation (e.g., Engineer, Doctor, etc.): Doctor\n",
            "Enter Quality of Sleep (Good/Fair/Poor): Good\n",
            "Enter Physical Activity Level (Low/Medium/High): Low\n",
            "Enter Sleep Disorder (Yes/No): Insomnia\n",
            "Enter BMI Category (Underweight/Normal/Overweight/Obese): Obese\n",
            "Enter Blood Pressure Category (Low/Normal/High): Low\n",
            "Enter Stress Level (Low/Medium/High): Low\n",
            "Enter Age: 21\n",
            "Enter Sleep Duration (in hours): 11\n",
            "Enter Daily Steps: 3000\n",
            "Enter Systolic Blood Pressure: 120\n",
            "Enter Diastolic Blood Pressure: 80\n",
            "Enter Heart Rate: 72\n"
          ]
        },
        {
          "output_type": "error",
          "ename": "KeyError",
          "evalue": "'Health Status'",
          "traceback": [
            "\u001b[0;31m---------------------------------------------------------------------------\u001b[0m",
            "\u001b[0;31mKeyError\u001b[0m                                  Traceback (most recent call last)",
            "\u001b[0;32m/usr/local/lib/python3.10/dist-packages/pandas/core/indexes/base.py\u001b[0m in \u001b[0;36mget_loc\u001b[0;34m(self, key)\u001b[0m\n\u001b[1;32m   3804\u001b[0m         \u001b[0;32mtry\u001b[0m\u001b[0;34m:\u001b[0m\u001b[0;34m\u001b[0m\u001b[0;34m\u001b[0m\u001b[0m\n\u001b[0;32m-> 3805\u001b[0;31m             \u001b[0;32mreturn\u001b[0m \u001b[0mself\u001b[0m\u001b[0;34m.\u001b[0m\u001b[0m_engine\u001b[0m\u001b[0;34m.\u001b[0m\u001b[0mget_loc\u001b[0m\u001b[0;34m(\u001b[0m\u001b[0mcasted_key\u001b[0m\u001b[0;34m)\u001b[0m\u001b[0;34m\u001b[0m\u001b[0;34m\u001b[0m\u001b[0m\n\u001b[0m\u001b[1;32m   3806\u001b[0m         \u001b[0;32mexcept\u001b[0m \u001b[0mKeyError\u001b[0m \u001b[0;32mas\u001b[0m \u001b[0merr\u001b[0m\u001b[0;34m:\u001b[0m\u001b[0;34m\u001b[0m\u001b[0;34m\u001b[0m\u001b[0m\n",
            "\u001b[0;32mindex.pyx\u001b[0m in \u001b[0;36mpandas._libs.index.IndexEngine.get_loc\u001b[0;34m()\u001b[0m\n",
            "\u001b[0;32mindex.pyx\u001b[0m in \u001b[0;36mpandas._libs.index.IndexEngine.get_loc\u001b[0;34m()\u001b[0m\n",
            "\u001b[0;32mpandas/_libs/hashtable_class_helper.pxi\u001b[0m in \u001b[0;36mpandas._libs.hashtable.PyObjectHashTable.get_item\u001b[0;34m()\u001b[0m\n",
            "\u001b[0;32mpandas/_libs/hashtable_class_helper.pxi\u001b[0m in \u001b[0;36mpandas._libs.hashtable.PyObjectHashTable.get_item\u001b[0;34m()\u001b[0m\n",
            "\u001b[0;31mKeyError\u001b[0m: 'Health Status'",
            "\nThe above exception was the direct cause of the following exception:\n",
            "\u001b[0;31mKeyError\u001b[0m                                  Traceback (most recent call last)",
            "\u001b[0;32m<ipython-input-18-dc27c5e237f9>\u001b[0m in \u001b[0;36m<cell line: 85>\u001b[0;34m()\u001b[0m\n\u001b[1;32m     83\u001b[0m \u001b[0;34m\u001b[0m\u001b[0m\n\u001b[1;32m     84\u001b[0m \u001b[0;31m# Test the model with user input\u001b[0m\u001b[0;34m\u001b[0m\u001b[0;34m\u001b[0m\u001b[0m\n\u001b[0;32m---> 85\u001b[0;31m \u001b[0mpredicted_health_status\u001b[0m \u001b[0;34m=\u001b[0m \u001b[0mpredict_user_input\u001b[0m\u001b[0;34m(\u001b[0m\u001b[0mxgb_model\u001b[0m\u001b[0;34m,\u001b[0m \u001b[0muser_input\u001b[0m\u001b[0;34m,\u001b[0m \u001b[0mlabel_encoders\u001b[0m\u001b[0;34m,\u001b[0m \u001b[0mscaler\u001b[0m\u001b[0;34m,\u001b[0m \u001b[0mfeature_columns\u001b[0m\u001b[0;34m)\u001b[0m\u001b[0;34m\u001b[0m\u001b[0;34m\u001b[0m\u001b[0m\n\u001b[0m\u001b[1;32m     86\u001b[0m \u001b[0;34m\u001b[0m\u001b[0m\n\u001b[1;32m     87\u001b[0m \u001b[0;31m# Print the prediction\u001b[0m\u001b[0;34m\u001b[0m\u001b[0;34m\u001b[0m\u001b[0m\n",
            "\u001b[0;32m<ipython-input-18-dc27c5e237f9>\u001b[0m in \u001b[0;36mpredict_user_input\u001b[0;34m(model, user_input, label_encoders, scaler, feature_columns)\u001b[0m\n\u001b[1;32m     60\u001b[0m \u001b[0;32mdef\u001b[0m \u001b[0mpredict_user_input\u001b[0m\u001b[0;34m(\u001b[0m\u001b[0mmodel\u001b[0m\u001b[0;34m,\u001b[0m \u001b[0muser_input\u001b[0m\u001b[0;34m,\u001b[0m \u001b[0mlabel_encoders\u001b[0m\u001b[0;34m,\u001b[0m \u001b[0mscaler\u001b[0m\u001b[0;34m,\u001b[0m \u001b[0mfeature_columns\u001b[0m\u001b[0;34m)\u001b[0m\u001b[0;34m:\u001b[0m\u001b[0;34m\u001b[0m\u001b[0;34m\u001b[0m\u001b[0m\n\u001b[1;32m     61\u001b[0m     \u001b[0;31m# Preprocess the input data\u001b[0m\u001b[0;34m\u001b[0m\u001b[0;34m\u001b[0m\u001b[0m\n\u001b[0;32m---> 62\u001b[0;31m     \u001b[0mpreprocessed_input\u001b[0m \u001b[0;34m=\u001b[0m \u001b[0mpreprocess_input_data\u001b[0m\u001b[0;34m(\u001b[0m\u001b[0muser_input\u001b[0m\u001b[0;34m,\u001b[0m \u001b[0mlabel_encoders\u001b[0m\u001b[0;34m,\u001b[0m \u001b[0mscaler\u001b[0m\u001b[0;34m,\u001b[0m \u001b[0mfeature_columns\u001b[0m\u001b[0;34m)\u001b[0m\u001b[0;34m\u001b[0m\u001b[0;34m\u001b[0m\u001b[0m\n\u001b[0m\u001b[1;32m     63\u001b[0m \u001b[0;34m\u001b[0m\u001b[0m\n\u001b[1;32m     64\u001b[0m     \u001b[0;31m# Make the prediction\u001b[0m\u001b[0;34m\u001b[0m\u001b[0;34m\u001b[0m\u001b[0m\n",
            "\u001b[0;32m<ipython-input-18-dc27c5e237f9>\u001b[0m in \u001b[0;36mpreprocess_input_data\u001b[0;34m(user_input, label_encoders, scaler, feature_columns)\u001b[0m\n\u001b[1;32m     41\u001b[0m     \u001b[0;31m# Encode categorical columns using label encoders\u001b[0m\u001b[0;34m\u001b[0m\u001b[0;34m\u001b[0m\u001b[0m\n\u001b[1;32m     42\u001b[0m     \u001b[0;32mfor\u001b[0m \u001b[0mcolumn\u001b[0m \u001b[0;32min\u001b[0m \u001b[0mlabel_encoders\u001b[0m\u001b[0;34m:\u001b[0m\u001b[0;34m\u001b[0m\u001b[0;34m\u001b[0m\u001b[0m\n\u001b[0;32m---> 43\u001b[0;31m         \u001b[0;32mif\u001b[0m \u001b[0muser_input_df\u001b[0m\u001b[0;34m[\u001b[0m\u001b[0mcolumn\u001b[0m\u001b[0;34m]\u001b[0m\u001b[0;34m.\u001b[0m\u001b[0mdtype\u001b[0m \u001b[0;34m==\u001b[0m \u001b[0;34m'object'\u001b[0m\u001b[0;34m:\u001b[0m  \u001b[0;31m# Apply encoding only to object columns\u001b[0m\u001b[0;34m\u001b[0m\u001b[0;34m\u001b[0m\u001b[0m\n\u001b[0m\u001b[1;32m     44\u001b[0m             \u001b[0muser_input_df\u001b[0m\u001b[0;34m[\u001b[0m\u001b[0mcolumn\u001b[0m\u001b[0;34m]\u001b[0m \u001b[0;34m=\u001b[0m \u001b[0muser_input_df\u001b[0m\u001b[0;34m[\u001b[0m\u001b[0mcolumn\u001b[0m\u001b[0;34m]\u001b[0m\u001b[0;34m.\u001b[0m\u001b[0mapply\u001b[0m\u001b[0;34m(\u001b[0m\u001b[0;32mlambda\u001b[0m \u001b[0mx\u001b[0m\u001b[0;34m:\u001b[0m \u001b[0msafe_label_encode\u001b[0m\u001b[0;34m(\u001b[0m\u001b[0mlabel_encoders\u001b[0m\u001b[0;34m[\u001b[0m\u001b[0mcolumn\u001b[0m\u001b[0;34m]\u001b[0m\u001b[0;34m,\u001b[0m \u001b[0mx\u001b[0m\u001b[0;34m)\u001b[0m\u001b[0;34m)\u001b[0m\u001b[0;34m\u001b[0m\u001b[0;34m\u001b[0m\u001b[0m\n\u001b[1;32m     45\u001b[0m \u001b[0;34m\u001b[0m\u001b[0m\n",
            "\u001b[0;32m/usr/local/lib/python3.10/dist-packages/pandas/core/frame.py\u001b[0m in \u001b[0;36m__getitem__\u001b[0;34m(self, key)\u001b[0m\n\u001b[1;32m   4100\u001b[0m             \u001b[0;32mif\u001b[0m \u001b[0mself\u001b[0m\u001b[0;34m.\u001b[0m\u001b[0mcolumns\u001b[0m\u001b[0;34m.\u001b[0m\u001b[0mnlevels\u001b[0m \u001b[0;34m>\u001b[0m \u001b[0;36m1\u001b[0m\u001b[0;34m:\u001b[0m\u001b[0;34m\u001b[0m\u001b[0;34m\u001b[0m\u001b[0m\n\u001b[1;32m   4101\u001b[0m                 \u001b[0;32mreturn\u001b[0m \u001b[0mself\u001b[0m\u001b[0;34m.\u001b[0m\u001b[0m_getitem_multilevel\u001b[0m\u001b[0;34m(\u001b[0m\u001b[0mkey\u001b[0m\u001b[0;34m)\u001b[0m\u001b[0;34m\u001b[0m\u001b[0;34m\u001b[0m\u001b[0m\n\u001b[0;32m-> 4102\u001b[0;31m             \u001b[0mindexer\u001b[0m \u001b[0;34m=\u001b[0m \u001b[0mself\u001b[0m\u001b[0;34m.\u001b[0m\u001b[0mcolumns\u001b[0m\u001b[0;34m.\u001b[0m\u001b[0mget_loc\u001b[0m\u001b[0;34m(\u001b[0m\u001b[0mkey\u001b[0m\u001b[0;34m)\u001b[0m\u001b[0;34m\u001b[0m\u001b[0;34m\u001b[0m\u001b[0m\n\u001b[0m\u001b[1;32m   4103\u001b[0m             \u001b[0;32mif\u001b[0m \u001b[0mis_integer\u001b[0m\u001b[0;34m(\u001b[0m\u001b[0mindexer\u001b[0m\u001b[0;34m)\u001b[0m\u001b[0;34m:\u001b[0m\u001b[0;34m\u001b[0m\u001b[0;34m\u001b[0m\u001b[0m\n\u001b[1;32m   4104\u001b[0m                 \u001b[0mindexer\u001b[0m \u001b[0;34m=\u001b[0m \u001b[0;34m[\u001b[0m\u001b[0mindexer\u001b[0m\u001b[0;34m]\u001b[0m\u001b[0;34m\u001b[0m\u001b[0;34m\u001b[0m\u001b[0m\n",
            "\u001b[0;32m/usr/local/lib/python3.10/dist-packages/pandas/core/indexes/base.py\u001b[0m in \u001b[0;36mget_loc\u001b[0;34m(self, key)\u001b[0m\n\u001b[1;32m   3810\u001b[0m             ):\n\u001b[1;32m   3811\u001b[0m                 \u001b[0;32mraise\u001b[0m \u001b[0mInvalidIndexError\u001b[0m\u001b[0;34m(\u001b[0m\u001b[0mkey\u001b[0m\u001b[0;34m)\u001b[0m\u001b[0;34m\u001b[0m\u001b[0;34m\u001b[0m\u001b[0m\n\u001b[0;32m-> 3812\u001b[0;31m             \u001b[0;32mraise\u001b[0m \u001b[0mKeyError\u001b[0m\u001b[0;34m(\u001b[0m\u001b[0mkey\u001b[0m\u001b[0;34m)\u001b[0m \u001b[0;32mfrom\u001b[0m \u001b[0merr\u001b[0m\u001b[0;34m\u001b[0m\u001b[0;34m\u001b[0m\u001b[0m\n\u001b[0m\u001b[1;32m   3813\u001b[0m         \u001b[0;32mexcept\u001b[0m \u001b[0mTypeError\u001b[0m\u001b[0;34m:\u001b[0m\u001b[0;34m\u001b[0m\u001b[0;34m\u001b[0m\u001b[0m\n\u001b[1;32m   3814\u001b[0m             \u001b[0;31m# If we have a listlike key, _check_indexing_error will raise\u001b[0m\u001b[0;34m\u001b[0m\u001b[0;34m\u001b[0m\u001b[0m\n",
            "\u001b[0;31mKeyError\u001b[0m: 'Health Status'"
          ]
        }
      ]
    }
  ]
}