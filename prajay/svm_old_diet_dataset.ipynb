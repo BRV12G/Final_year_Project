{
  "nbformat": 4,
  "nbformat_minor": 0,
  "metadata": {
    "colab": {
      "provenance": [],
      "gpuType": "T4",
      "authorship_tag": "ABX9TyNPK2POY0sIFg3O5SMG0IXh",
      "include_colab_link": true
    },
    "kernelspec": {
      "name": "python3",
      "display_name": "Python 3"
    },
    "language_info": {
      "name": "python"
    },
    "accelerator": "GPU"
  },
  "cells": [
    {
      "cell_type": "markdown",
      "metadata": {
        "id": "view-in-github",
        "colab_type": "text"
      },
      "source": [
        "<a href=\"https://colab.research.google.com/github/BRV12G/Final_year_Project/blob/main/svm_old_diet_dataset.ipynb\" target=\"_parent\"><img src=\"https://colab.research.google.com/assets/colab-badge.svg\" alt=\"Open In Colab\"/></a>"
      ]
    },
    {
      "cell_type": "code",
      "execution_count": null,
      "metadata": {
        "colab": {
          "base_uri": "https://localhost:8080/"
        },
        "id": "4Zx2nd6X7fW8",
        "outputId": "5b1423b7-eac0-40fe-a50d-4b74d2b33582"
      },
      "outputs": [
        {
          "output_type": "stream",
          "name": "stdout",
          "text": [
            "<class 'pandas.core.frame.DataFrame'>\n",
            "RangeIndex: 20000 entries, 0 to 19999\n",
            "Data columns (total 17 columns):\n",
            " #   Column                   Non-Null Count  Dtype \n",
            "---  ------                   --------------  ----- \n",
            " 0   Person ID                20000 non-null  object\n",
            " 1   Gender                   20000 non-null  object\n",
            " 2   Age                      20000 non-null  int64 \n",
            " 3   Occupation               20000 non-null  object\n",
            " 4   Sleep Duration           20000 non-null  int64 \n",
            " 5   Quality of Sleep         20000 non-null  object\n",
            " 6   Physical Activity Level  20000 non-null  object\n",
            " 7   Stress Level             20000 non-null  object\n",
            " 8   BMI Category             20000 non-null  object\n",
            " 9   Blood Pressure Category  20000 non-null  object\n",
            " 10  Systolic                 20000 non-null  int64 \n",
            " 11  Diastolic                20000 non-null  int64 \n",
            " 12  Heart Rate               20000 non-null  int64 \n",
            " 13  Daily Steps              20000 non-null  int64 \n",
            " 14  Sleep Disorder           14951 non-null  object\n",
            " 15  Health Status            20000 non-null  object\n",
            " 16  Nutritional Needs        20000 non-null  object\n",
            "dtypes: int64(6), object(11)\n",
            "memory usage: 2.6+ MB\n"
          ]
        },
        {
          "output_type": "execute_result",
          "data": {
            "text/plain": [
              "(  Person ID  Gender  Age Occupation  Sleep Duration Quality of Sleep  \\\n",
              " 0        P1  Female   50    Teacher               5        Excellent   \n",
              " 1        P2  Female   31  Scientist              10             Good   \n",
              " 2        P3    Male   36  Scientist              10        Excellent   \n",
              " 3        P4    Male   44    Manager               9             Fair   \n",
              " 4        P5    Male   64     Artist               6             Fair   \n",
              " \n",
              "   Physical Activity Level Stress Level BMI Category Blood Pressure Category  \\\n",
              " 0                  Medium       Medium   Overweight            Hypertension   \n",
              " 1                    High         High  Underweight         Prehypertension   \n",
              " 2                     Low          Low       Normal                  Normal   \n",
              " 3                     Low         High   Overweight                  Normal   \n",
              " 4                     Low         High   Overweight            Hypertension   \n",
              " \n",
              "    Systolic  Diastolic  Heart Rate  Daily Steps Sleep Disorder Health Status  \\\n",
              " 0       145         96         102         3603       Insomnia     Unhealthy   \n",
              " 1       131         81          85        10069    Sleep Apnea     Unhealthy   \n",
              " 2       103         64          95         4068    Sleep Apnea     Unhealthy   \n",
              " 3       108         78          67         8079            NaN     Unhealthy   \n",
              " 4       156         96          96         8110       Insomnia     Unhealthy   \n",
              " \n",
              "                                    Nutritional Needs  \n",
              " 0  Balanced diet with brain-boosting nutrients li...  \n",
              " 1  Balanced diet with adequate iron and calcium. ...  \n",
              " 2  High-protein diet with healthy fats for muscle...  \n",
              " 3  High-protein diet with healthy fats for muscle...  \n",
              " 4  Increase magnesium, vitamin B6, and melatonin-...  ,\n",
              " None)"
            ]
          },
          "metadata": {},
          "execution_count": 3
        }
      ],
      "source": [
        "import pandas as pd\n",
        "\n",
        "# Load the uploaded dataset to inspect its structure\n",
        "file_path = '/content/nutition_updated (1).csv'\n",
        "data = pd.read_csv(file_path)\n",
        "\n",
        "# Display the first few rows of the dataset along with some summary information\n",
        "data.head(), data.info()\n"
      ]
    },
    {
      "cell_type": "code",
      "source": [
        "from sklearn.model_selection import train_test_split\n",
        "from sklearn.preprocessing import LabelEncoder, StandardScaler\n",
        "from sklearn.impute import SimpleImputer\n",
        "\n",
        "# Drop irrelevant columns (e.g., 'Person ID') if they do not contribute to prediction\n",
        "data = data.drop(columns=['Person ID', 'Nutritional Needs'])\n",
        "\n",
        "# Encode categorical features\n",
        "label_encoders = {}\n",
        "for column in data.select_dtypes(include='object').columns:\n",
        "    if column != 'Health Status':  # Target variable, to be encoded separately\n",
        "        le = LabelEncoder()\n",
        "        data[column] = le.fit_transform(data[column].astype(str))\n",
        "        label_encoders[column] = le\n",
        "\n",
        "# Handle missing values for \"Sleep Disorder\" using SimpleImputer\n",
        "imputer = SimpleImputer(strategy='most_frequent')\n",
        "data['Sleep Disorder'] = imputer.fit_transform(data[['Sleep Disorder']])\n",
        "\n",
        "# Encode the target label 'Health Status'\n",
        "target_encoder = LabelEncoder()\n",
        "data['Health Status'] = target_encoder.fit_transform(data['Health Status'])\n",
        "\n",
        "# Split the data into features (X) and target (y)\n",
        "X = data.drop(columns=['Health Status'])\n",
        "y = data['Health Status']\n",
        "\n",
        "# Standardize features\n",
        "scaler = StandardScaler()\n",
        "X = scaler.fit_transform(X)\n",
        "\n",
        "# Split the dataset into training and testing sets\n",
        "X_train, X_test, y_train, y_test = train_test_split(X, y, test_size=0.2, random_state=42)\n",
        "\n",
        "X_train.shape, X_test.shape, y_train.shape, y_test.shape\n"
      ],
      "metadata": {
        "colab": {
          "base_uri": "https://localhost:8080/"
        },
        "id": "tnfoa-BQ8s4r",
        "outputId": "57d502b6-c409-4478-bf93-ea449458cc03"
      },
      "execution_count": null,
      "outputs": [
        {
          "output_type": "execute_result",
          "data": {
            "text/plain": [
              "((16000, 14), (4000, 14), (16000,), (4000,))"
            ]
          },
          "metadata": {},
          "execution_count": 4
        }
      ]
    },
    {
      "cell_type": "code",
      "source": [
        "from sklearn.svm import SVC\n",
        "from sklearn.metrics import accuracy_score, classification_report\n",
        "\n",
        "# Initialize the SVM classifier with a linear kernel\n",
        "svm_model = SVC(kernel='linear', random_state=42)\n",
        "\n",
        "# Train the model\n",
        "svm_model.fit(X_train, y_train)\n",
        "\n",
        "# Make predictions on the test set\n",
        "y_pred = svm_model.predict(X_test)\n",
        "\n",
        "# Evaluate the model's performance\n",
        "accuracy = accuracy_score(y_test, y_pred)\n",
        "classification_rep = classification_report(y_test, y_pred, target_names=target_encoder.classes_)\n",
        "\n",
        "print(accuracy, classification_rep)\n"
      ],
      "metadata": {
        "colab": {
          "base_uri": "https://localhost:8080/"
        },
        "id": "yIYEPq3S8zqz",
        "outputId": "b6e83438-ce0b-4f48-968b-31be657be08b"
      },
      "execution_count": null,
      "outputs": [
        {
          "output_type": "stream",
          "name": "stdout",
          "text": [
            "0.9775               precision    recall  f1-score   support\n",
            "\n",
            "     Healthy       0.93      0.95      0.94       750\n",
            "   Unhealthy       0.99      0.98      0.99      3250\n",
            "\n",
            "    accuracy                           0.98      4000\n",
            "   macro avg       0.96      0.97      0.96      4000\n",
            "weighted avg       0.98      0.98      0.98      4000\n",
            "\n"
          ]
        }
      ]
    },
    {
      "cell_type": "code",
      "source": [
        "import numpy as np\n",
        "\n",
        "def predict_health_status(input_data):\n",
        "    \"\"\"\n",
        "    Predict the health status of a user based on their input data.\n",
        "\n",
        "    Parameters:\n",
        "    input_data (dict): Dictionary containing feature values similar to original dataset structure.\n",
        "\n",
        "    Returns:\n",
        "    str: Predicted health status ('Healthy' or 'Unhealthy').\n",
        "    \"\"\"\n",
        "    # Create a DataFrame from the input data\n",
        "    input_df = pd.DataFrame([input_data])\n",
        "\n",
        "    # Encode categorical features using the previously fitted LabelEncoders\n",
        "    for column, le in label_encoders.items():\n",
        "        input_df[column] = le.transform(input_df[column].astype(str))\n",
        "\n",
        "    # Handle missing values\n",
        "    input_df['Sleep Disorder'] = imputer.transform(input_df[['Sleep Disorder']])\n",
        "\n",
        "    # Scale features using the previously fitted StandardScaler\n",
        "    input_scaled = scaler.transform(input_df)\n",
        "\n",
        "    # Predict health status using the trained SVM model\n",
        "    prediction = svm_model.predict(input_scaled)\n",
        "\n",
        "    # Decode the prediction to its original label\n",
        "    predicted_status = target_encoder.inverse_transform(prediction)[0]\n",
        "\n",
        "    return predicted_status\n",
        "\n",
        "# Sample input for testing the function (based on the dataset structure)\n",
        "sample_input = {\n",
        "    'Gender': 'Female',\n",
        "    'Age': 35,\n",
        "    'Occupation': 'Scientist',\n",
        "    'Sleep Duration': 7,\n",
        "    'Quality of Sleep': 'Good',\n",
        "    'Physical Activity Level': 'Medium',\n",
        "    'Stress Level': 'Medium',\n",
        "    'BMI Category': 'Normal',\n",
        "    'Blood Pressure Category': 'Normal',\n",
        "    'Systolic': 120,\n",
        "    'Diastolic': 80,\n",
        "    'Heart Rate': 72,\n",
        "    'Daily Steps': 8000,\n",
        "    'Sleep Disorder': 'None'\n",
        "}\n",
        "\n",
        "# Test the prediction function with sample input\n",
        "predict_health_status(sample_input)\n"
      ],
      "metadata": {
        "colab": {
          "base_uri": "https://localhost:8080/",
          "height": 424
        },
        "id": "pLI1U2e6888L",
        "outputId": "67ed86f5-bb9e-474e-fc4c-fa61a69f9ba2"
      },
      "execution_count": null,
      "outputs": [
        {
          "output_type": "error",
          "ename": "ValueError",
          "evalue": "y contains previously unseen labels: 'None'",
          "traceback": [
            "\u001b[0;31m---------------------------------------------------------------------------\u001b[0m",
            "\u001b[0;31mKeyError\u001b[0m                                  Traceback (most recent call last)",
            "\u001b[0;32m/usr/local/lib/python3.10/dist-packages/sklearn/utils/_encode.py\u001b[0m in \u001b[0;36m_encode\u001b[0;34m(values, uniques, check_unknown)\u001b[0m\n\u001b[1;32m    224\u001b[0m         \u001b[0;32mtry\u001b[0m\u001b[0;34m:\u001b[0m\u001b[0;34m\u001b[0m\u001b[0;34m\u001b[0m\u001b[0m\n\u001b[0;32m--> 225\u001b[0;31m             \u001b[0;32mreturn\u001b[0m \u001b[0m_map_to_integer\u001b[0m\u001b[0;34m(\u001b[0m\u001b[0mvalues\u001b[0m\u001b[0;34m,\u001b[0m \u001b[0muniques\u001b[0m\u001b[0;34m)\u001b[0m\u001b[0;34m\u001b[0m\u001b[0;34m\u001b[0m\u001b[0m\n\u001b[0m\u001b[1;32m    226\u001b[0m         \u001b[0;32mexcept\u001b[0m \u001b[0mKeyError\u001b[0m \u001b[0;32mas\u001b[0m \u001b[0me\u001b[0m\u001b[0;34m:\u001b[0m\u001b[0;34m\u001b[0m\u001b[0;34m\u001b[0m\u001b[0m\n",
            "\u001b[0;32m/usr/local/lib/python3.10/dist-packages/sklearn/utils/_encode.py\u001b[0m in \u001b[0;36m_map_to_integer\u001b[0;34m(values, uniques)\u001b[0m\n\u001b[1;32m    164\u001b[0m     \u001b[0mtable\u001b[0m \u001b[0;34m=\u001b[0m \u001b[0m_nandict\u001b[0m\u001b[0;34m(\u001b[0m\u001b[0;34m{\u001b[0m\u001b[0mval\u001b[0m\u001b[0;34m:\u001b[0m \u001b[0mi\u001b[0m \u001b[0;32mfor\u001b[0m \u001b[0mi\u001b[0m\u001b[0;34m,\u001b[0m \u001b[0mval\u001b[0m \u001b[0;32min\u001b[0m \u001b[0menumerate\u001b[0m\u001b[0;34m(\u001b[0m\u001b[0muniques\u001b[0m\u001b[0;34m)\u001b[0m\u001b[0;34m}\u001b[0m\u001b[0;34m)\u001b[0m\u001b[0;34m\u001b[0m\u001b[0;34m\u001b[0m\u001b[0m\n\u001b[0;32m--> 165\u001b[0;31m     \u001b[0;32mreturn\u001b[0m \u001b[0mnp\u001b[0m\u001b[0;34m.\u001b[0m\u001b[0marray\u001b[0m\u001b[0;34m(\u001b[0m\u001b[0;34m[\u001b[0m\u001b[0mtable\u001b[0m\u001b[0;34m[\u001b[0m\u001b[0mv\u001b[0m\u001b[0;34m]\u001b[0m \u001b[0;32mfor\u001b[0m \u001b[0mv\u001b[0m \u001b[0;32min\u001b[0m \u001b[0mvalues\u001b[0m\u001b[0;34m]\u001b[0m\u001b[0;34m)\u001b[0m\u001b[0;34m\u001b[0m\u001b[0;34m\u001b[0m\u001b[0m\n\u001b[0m\u001b[1;32m    166\u001b[0m \u001b[0;34m\u001b[0m\u001b[0m\n",
            "\u001b[0;32m/usr/local/lib/python3.10/dist-packages/sklearn/utils/_encode.py\u001b[0m in \u001b[0;36m<listcomp>\u001b[0;34m(.0)\u001b[0m\n\u001b[1;32m    164\u001b[0m     \u001b[0mtable\u001b[0m \u001b[0;34m=\u001b[0m \u001b[0m_nandict\u001b[0m\u001b[0;34m(\u001b[0m\u001b[0;34m{\u001b[0m\u001b[0mval\u001b[0m\u001b[0;34m:\u001b[0m \u001b[0mi\u001b[0m \u001b[0;32mfor\u001b[0m \u001b[0mi\u001b[0m\u001b[0;34m,\u001b[0m \u001b[0mval\u001b[0m \u001b[0;32min\u001b[0m \u001b[0menumerate\u001b[0m\u001b[0;34m(\u001b[0m\u001b[0muniques\u001b[0m\u001b[0;34m)\u001b[0m\u001b[0;34m}\u001b[0m\u001b[0;34m)\u001b[0m\u001b[0;34m\u001b[0m\u001b[0;34m\u001b[0m\u001b[0m\n\u001b[0;32m--> 165\u001b[0;31m     \u001b[0;32mreturn\u001b[0m \u001b[0mnp\u001b[0m\u001b[0;34m.\u001b[0m\u001b[0marray\u001b[0m\u001b[0;34m(\u001b[0m\u001b[0;34m[\u001b[0m\u001b[0mtable\u001b[0m\u001b[0;34m[\u001b[0m\u001b[0mv\u001b[0m\u001b[0;34m]\u001b[0m \u001b[0;32mfor\u001b[0m \u001b[0mv\u001b[0m \u001b[0;32min\u001b[0m \u001b[0mvalues\u001b[0m\u001b[0;34m]\u001b[0m\u001b[0;34m)\u001b[0m\u001b[0;34m\u001b[0m\u001b[0;34m\u001b[0m\u001b[0m\n\u001b[0m\u001b[1;32m    166\u001b[0m \u001b[0;34m\u001b[0m\u001b[0m\n",
            "\u001b[0;32m/usr/local/lib/python3.10/dist-packages/sklearn/utils/_encode.py\u001b[0m in \u001b[0;36m__missing__\u001b[0;34m(self, key)\u001b[0m\n\u001b[1;32m    158\u001b[0m             \u001b[0;32mreturn\u001b[0m \u001b[0mself\u001b[0m\u001b[0;34m.\u001b[0m\u001b[0mnan_value\u001b[0m\u001b[0;34m\u001b[0m\u001b[0;34m\u001b[0m\u001b[0m\n\u001b[0;32m--> 159\u001b[0;31m         \u001b[0;32mraise\u001b[0m \u001b[0mKeyError\u001b[0m\u001b[0;34m(\u001b[0m\u001b[0mkey\u001b[0m\u001b[0;34m)\u001b[0m\u001b[0;34m\u001b[0m\u001b[0;34m\u001b[0m\u001b[0m\n\u001b[0m\u001b[1;32m    160\u001b[0m \u001b[0;34m\u001b[0m\u001b[0m\n",
            "\u001b[0;31mKeyError\u001b[0m: 'None'",
            "\nDuring handling of the above exception, another exception occurred:\n",
            "\u001b[0;31mValueError\u001b[0m                                Traceback (most recent call last)",
            "\u001b[0;32m<ipython-input-4-1cab81d5c906>\u001b[0m in \u001b[0;36m<cell line: 53>\u001b[0;34m()\u001b[0m\n\u001b[1;32m     51\u001b[0m \u001b[0;34m\u001b[0m\u001b[0m\n\u001b[1;32m     52\u001b[0m \u001b[0;31m# Test the prediction function with sample input\u001b[0m\u001b[0;34m\u001b[0m\u001b[0;34m\u001b[0m\u001b[0m\n\u001b[0;32m---> 53\u001b[0;31m \u001b[0mpredict_health_status\u001b[0m\u001b[0;34m(\u001b[0m\u001b[0msample_input\u001b[0m\u001b[0;34m)\u001b[0m\u001b[0;34m\u001b[0m\u001b[0;34m\u001b[0m\u001b[0m\n\u001b[0m",
            "\u001b[0;32m<ipython-input-4-1cab81d5c906>\u001b[0m in \u001b[0;36mpredict_health_status\u001b[0;34m(input_data)\u001b[0m\n\u001b[1;32m     16\u001b[0m     \u001b[0;31m# Encode categorical features using the previously fitted LabelEncoders\u001b[0m\u001b[0;34m\u001b[0m\u001b[0;34m\u001b[0m\u001b[0m\n\u001b[1;32m     17\u001b[0m     \u001b[0;32mfor\u001b[0m \u001b[0mcolumn\u001b[0m\u001b[0;34m,\u001b[0m \u001b[0mle\u001b[0m \u001b[0;32min\u001b[0m \u001b[0mlabel_encoders\u001b[0m\u001b[0;34m.\u001b[0m\u001b[0mitems\u001b[0m\u001b[0;34m(\u001b[0m\u001b[0;34m)\u001b[0m\u001b[0;34m:\u001b[0m\u001b[0;34m\u001b[0m\u001b[0;34m\u001b[0m\u001b[0m\n\u001b[0;32m---> 18\u001b[0;31m         \u001b[0minput_df\u001b[0m\u001b[0;34m[\u001b[0m\u001b[0mcolumn\u001b[0m\u001b[0;34m]\u001b[0m \u001b[0;34m=\u001b[0m \u001b[0mle\u001b[0m\u001b[0;34m.\u001b[0m\u001b[0mtransform\u001b[0m\u001b[0;34m(\u001b[0m\u001b[0minput_df\u001b[0m\u001b[0;34m[\u001b[0m\u001b[0mcolumn\u001b[0m\u001b[0;34m]\u001b[0m\u001b[0;34m.\u001b[0m\u001b[0mastype\u001b[0m\u001b[0;34m(\u001b[0m\u001b[0mstr\u001b[0m\u001b[0;34m)\u001b[0m\u001b[0;34m)\u001b[0m\u001b[0;34m\u001b[0m\u001b[0;34m\u001b[0m\u001b[0m\n\u001b[0m\u001b[1;32m     19\u001b[0m \u001b[0;34m\u001b[0m\u001b[0m\n\u001b[1;32m     20\u001b[0m     \u001b[0;31m# Handle missing values\u001b[0m\u001b[0;34m\u001b[0m\u001b[0;34m\u001b[0m\u001b[0m\n",
            "\u001b[0;32m/usr/local/lib/python3.10/dist-packages/sklearn/preprocessing/_label.py\u001b[0m in \u001b[0;36mtransform\u001b[0;34m(self, y)\u001b[0m\n\u001b[1;32m    135\u001b[0m             \u001b[0;32mreturn\u001b[0m \u001b[0mnp\u001b[0m\u001b[0;34m.\u001b[0m\u001b[0marray\u001b[0m\u001b[0;34m(\u001b[0m\u001b[0;34m[\u001b[0m\u001b[0;34m]\u001b[0m\u001b[0;34m)\u001b[0m\u001b[0;34m\u001b[0m\u001b[0;34m\u001b[0m\u001b[0m\n\u001b[1;32m    136\u001b[0m \u001b[0;34m\u001b[0m\u001b[0m\n\u001b[0;32m--> 137\u001b[0;31m         \u001b[0;32mreturn\u001b[0m \u001b[0m_encode\u001b[0m\u001b[0;34m(\u001b[0m\u001b[0my\u001b[0m\u001b[0;34m,\u001b[0m \u001b[0muniques\u001b[0m\u001b[0;34m=\u001b[0m\u001b[0mself\u001b[0m\u001b[0;34m.\u001b[0m\u001b[0mclasses_\u001b[0m\u001b[0;34m)\u001b[0m\u001b[0;34m\u001b[0m\u001b[0;34m\u001b[0m\u001b[0m\n\u001b[0m\u001b[1;32m    138\u001b[0m \u001b[0;34m\u001b[0m\u001b[0m\n\u001b[1;32m    139\u001b[0m     \u001b[0;32mdef\u001b[0m \u001b[0minverse_transform\u001b[0m\u001b[0;34m(\u001b[0m\u001b[0mself\u001b[0m\u001b[0;34m,\u001b[0m \u001b[0my\u001b[0m\u001b[0;34m)\u001b[0m\u001b[0;34m:\u001b[0m\u001b[0;34m\u001b[0m\u001b[0;34m\u001b[0m\u001b[0m\n",
            "\u001b[0;32m/usr/local/lib/python3.10/dist-packages/sklearn/utils/_encode.py\u001b[0m in \u001b[0;36m_encode\u001b[0;34m(values, uniques, check_unknown)\u001b[0m\n\u001b[1;32m    225\u001b[0m             \u001b[0;32mreturn\u001b[0m \u001b[0m_map_to_integer\u001b[0m\u001b[0;34m(\u001b[0m\u001b[0mvalues\u001b[0m\u001b[0;34m,\u001b[0m \u001b[0muniques\u001b[0m\u001b[0;34m)\u001b[0m\u001b[0;34m\u001b[0m\u001b[0;34m\u001b[0m\u001b[0m\n\u001b[1;32m    226\u001b[0m         \u001b[0;32mexcept\u001b[0m \u001b[0mKeyError\u001b[0m \u001b[0;32mas\u001b[0m \u001b[0me\u001b[0m\u001b[0;34m:\u001b[0m\u001b[0;34m\u001b[0m\u001b[0;34m\u001b[0m\u001b[0m\n\u001b[0;32m--> 227\u001b[0;31m             \u001b[0;32mraise\u001b[0m \u001b[0mValueError\u001b[0m\u001b[0;34m(\u001b[0m\u001b[0;34mf\"y contains previously unseen labels: {str(e)}\"\u001b[0m\u001b[0;34m)\u001b[0m\u001b[0;34m\u001b[0m\u001b[0;34m\u001b[0m\u001b[0m\n\u001b[0m\u001b[1;32m    228\u001b[0m     \u001b[0;32melse\u001b[0m\u001b[0;34m:\u001b[0m\u001b[0;34m\u001b[0m\u001b[0;34m\u001b[0m\u001b[0m\n\u001b[1;32m    229\u001b[0m         \u001b[0;32mif\u001b[0m \u001b[0mcheck_unknown\u001b[0m\u001b[0;34m:\u001b[0m\u001b[0;34m\u001b[0m\u001b[0;34m\u001b[0m\u001b[0m\n",
            "\u001b[0;31mValueError\u001b[0m: y contains previously unseen labels: 'None'"
          ]
        }
      ]
    },
    {
      "cell_type": "code",
      "source": [
        "import numpy as np\n",
        "\n",
        "def predict_health_status(input_data):\n",
        "    \"\"\"\n",
        "    Predict the health status of a user based on their input data.\n",
        "\n",
        "    Parameters:\n",
        "    input_data (dict): Dictionary containing feature values similar to original dataset structure.\n",
        "\n",
        "    Returns:\n",
        "    str: Predicted health status ('Healthy' or 'Unhealthy').\n",
        "    \"\"\"\n",
        "    # Create a DataFrame from the input data\n",
        "    input_df = pd.DataFrame([input_data])\n",
        "\n",
        "    # Encode categorical features using the previously fitted LabelEncoders\n",
        "    for column, le in label_encoders.items():\n",
        "        try:\n",
        "            # Attempt to transform the input data; if label is unseen, set a default value\n",
        "            input_df[column] = le.transform(input_df[column].astype(str))\n",
        "        except ValueError:\n",
        "            # Use the most common or a default label when an unseen category appears\n",
        "            input_df[column] = le.transform([le.classes_[0]])  # or specify another valid default label if needed\n",
        "\n",
        "    # Handle missing values\n",
        "    input_df['Sleep Disorder'] = imputer.transform(input_df[['Sleep Disorder']])\n",
        "\n",
        "    # Scale features using the previously fitted StandardScaler\n",
        "    input_scaled = scaler.transform(input_df)\n",
        "\n",
        "    # Predict health status using the trained SVM model\n",
        "    prediction = svm_model.predict(input_scaled)\n",
        "\n",
        "    # Decode the prediction to its original label\n",
        "    predicted_status = target_encoder.inverse_transform(prediction)[0]\n",
        "\n",
        "    return predicted_status\n",
        "\n",
        "# Example input data for prediction\n",
        "sample_input = {\n",
        "    'Gender': 'Female',\n",
        "    'Age': 35,\n",
        "    'Occupation': 'Scientist',\n",
        "    'Sleep Duration': 7,\n",
        "    'Quality of Sleep': 'Good',\n",
        "    'Physical Activity Level': 'Medium',\n",
        "    'Stress Level': 'Medium',\n",
        "    'BMI Category': 'Normal',\n",
        "    'Blood Pressure Category': 'Normal',\n",
        "    'Systolic': 120,\n",
        "    'Diastolic': 80,\n",
        "    'Heart Rate': 72,\n",
        "    'Daily Steps': 8000,\n",
        "    'Sleep Disorder': 'None'  # Test for unseen value handling\n",
        "}\n",
        "\n",
        "# Test the function with this sample input\n",
        "print(predict_health_status(sample_input))\n"
      ],
      "metadata": {
        "colab": {
          "base_uri": "https://localhost:8080/"
        },
        "id": "acHpZX--9Te6",
        "outputId": "e7281059-9578-45b2-a7bf-16b0a9d6c33c"
      },
      "execution_count": null,
      "outputs": [
        {
          "output_type": "stream",
          "name": "stdout",
          "text": [
            "Healthy\n"
          ]
        }
      ]
    },
    {
      "cell_type": "code",
      "source": [
        "import numpy as np\n",
        "\n",
        "def get_user_input():\n",
        "    \"\"\"\n",
        "    Prompt the user to enter values for each feature required by the model.\n",
        "    Returns:\n",
        "    dict: A dictionary containing user inputs for each feature.\n",
        "    \"\"\"\n",
        "    user_data = {\n",
        "        'Gender': input(\"Enter Gender (Male/Female): \"),\n",
        "        'Age': int(input(\"Enter Age: \")),\n",
        "        'Occupation': input(\"Enter Occupation (e.g., Scientist, Teacher, Artist): \"),\n",
        "        'Sleep Duration': int(input(\"Enter Sleep Duration (hours): \")),\n",
        "        'Quality of Sleep': input(\"Enter Quality of Sleep (Excellent/Good/Fair/Poor): \"),\n",
        "        'Physical Activity Level': input(\"Enter Physical Activity Level (Low/Medium/High): \"),\n",
        "        'Stress Level': input(\"Enter Stress Level (Low/Medium/High): \"),\n",
        "        'BMI Category': input(\"Enter BMI Category (Underweight/Normal/Overweight/Obese): \"),\n",
        "        'Blood Pressure Category': input(\"Enter Blood Pressure Category (Normal/Prehypertension/Hypertension): \"),\n",
        "        'Systolic': int(input(\"Enter Systolic Blood Pressure: \")),\n",
        "        'Diastolic': int(input(\"Enter Diastolic Blood Pressure: \")),\n",
        "        'Heart Rate': int(input(\"Enter Heart Rate: \")),\n",
        "        'Daily Steps': int(input(\"Enter Daily Steps: \")),\n",
        "        'Sleep Disorder': input(\"Enter Sleep Disorder (None, Insomnia, Sleep Apnea): \")\n",
        "    }\n",
        "    return user_data\n",
        "\n",
        "def predict_health_status(input_data):\n",
        "    \"\"\"\n",
        "    Predict the health status of a user based on their input data.\n",
        "\n",
        "    Parameters:\n",
        "    input_data (dict): Dictionary containing feature values similar to original dataset structure.\n",
        "\n",
        "    Returns:\n",
        "    str: Predicted health status ('Healthy' or 'Unhealthy').\n",
        "    \"\"\"\n",
        "    # Create a DataFrame from the input data\n",
        "    input_df = pd.DataFrame([input_data])\n",
        "\n",
        "    # Encode categorical features using the previously fitted LabelEncoders\n",
        "    for column, le in label_encoders.items():\n",
        "        try:\n",
        "            # Attempt to transform the input data; if label is unseen, set a default value\n",
        "            input_df[column] = le.transform(input_df[column].astype(str))\n",
        "        except ValueError:\n",
        "            # Use the most common or a default label when an unseen category appears\n",
        "            input_df[column] = le.transform([le.classes_[0]])  # or specify another valid default label if needed\n",
        "\n",
        "    # Handle missing values\n",
        "    input_df['Sleep Disorder'] = imputer.transform(input_df[['Sleep Disorder']])\n",
        "\n",
        "    # Scale features using the previously fitted StandardScaler\n",
        "    input_scaled = scaler.transform(input_df)\n",
        "\n",
        "    # Predict health status using the trained SVM model\n",
        "    prediction = svm_model.predict(input_scaled)\n",
        "\n",
        "    # Decode the prediction to its original label\n",
        "    predicted_status = target_encoder.inverse_transform(prediction)[0]\n",
        "\n",
        "    return predicted_status\n",
        "\n",
        "# Gather user input\n",
        "user_input_data = get_user_input()\n",
        "\n",
        "# Predict health status based on user input\n",
        "predicted_health_status = predict_health_status(user_input_data)\n",
        "\n",
        "print(f\"Predicted Health Status: {predicted_health_status}\")\n"
      ],
      "metadata": {
        "colab": {
          "base_uri": "https://localhost:8080/"
        },
        "id": "XzXPvndf9njj",
        "outputId": "4fabaa47-672f-4cd3-d6ad-394ead3098c9"
      },
      "execution_count": null,
      "outputs": [
        {
          "output_type": "stream",
          "name": "stdout",
          "text": [
            "Enter Gender (Male/Female): Male\n",
            "Enter Age: 21\n",
            "Enter Occupation (e.g., Scientist, Teacher, Artist): Teacher\n",
            "Enter Sleep Duration (hours): 8\n",
            "Enter Quality of Sleep (Excellent/Good/Fair/Poor): Good\n",
            "Enter Physical Activity Level (Low/Medium/High): Medium\n",
            "Enter Stress Level (Low/Medium/High): Medium\n",
            "Enter BMI Category (Underweight/Normal/Overweight/Obese): Obese\n",
            "Enter Blood Pressure Category (Normal/Prehypertension/Hypertension): Noraml\n",
            "Enter Systolic Blood Pressure: 120\n",
            "Enter Diastolic Blood Pressure: 80\n",
            "Enter Heart Rate: 89\n",
            "Enter Daily Steps: 3000\n",
            "Enter Sleep Disorder (None, Insomnia, Sleep Apnea): None\n",
            "Predicted Health Status: Unhealthy\n"
          ]
        }
      ]
    },
    {
      "cell_type": "code",
      "source": [
        "import numpy as np\n",
        "\n",
        "# Reload the dataset to ensure access to the 'Nutritional Needs' column for recommendations\n",
        "data = pd.read_csv('/content/nutition_updated (1).csv')\n",
        "\n",
        "def get_user_input():\n",
        "    \"\"\"\n",
        "    Prompt the user to enter values for each feature required by the model.\n",
        "    Returns:\n",
        "    dict: A dictionary containing user inputs for each feature.\n",
        "    \"\"\"\n",
        "    user_data = {\n",
        "        'Gender': input(\"Enter Gender (Male/Female): \"),\n",
        "        'Age': int(input(\"Enter Age: \")),\n",
        "        'Occupation': input(\"Enter Occupation (e.g., Scientist, Teacher, Artist): \"),\n",
        "        'Sleep Duration': int(input(\"Enter Sleep Duration (hours): \")),\n",
        "        'Quality of Sleep': input(\"Enter Quality of Sleep (Excellent/Good/Fair/Poor): \"),\n",
        "        'Physical Activity Level': input(\"Enter Physical Activity Level (Low/Medium/High): \"),\n",
        "        'Stress Level': input(\"Enter Stress Level (Low/Medium/High): \"),\n",
        "        'BMI Category': input(\"Enter BMI Category (Underweight/Normal/Overweight/Obese): \"),\n",
        "        'Blood Pressure Category': input(\"Enter Blood Pressure Category (Normal/Prehypertension/Hypertension): \"),\n",
        "        'Systolic': int(input(\"Enter Systolic Blood Pressure: \")),\n",
        "        'Diastolic': int(input(\"Enter Diastolic Blood Pressure: \")),\n",
        "        'Heart Rate': int(input(\"Enter Heart Rate: \")),\n",
        "        'Daily Steps': int(input(\"Enter Daily Steps: \")),\n",
        "        'Sleep Disorder': input(\"Enter Sleep Disorder (None, Insomnia, Sleep Apnea): \")\n",
        "    }\n",
        "    return user_data\n",
        "\n",
        "def predict_health_and_nutrition(input_data):\n",
        "    \"\"\"\n",
        "    Predict the health status and recommend nutritional needs based on user input.\n",
        "\n",
        "    Parameters:\n",
        "    input_data (dict): Dictionary containing feature values similar to the dataset structure.\n",
        "\n",
        "    Returns:\n",
        "    tuple: Predicted health status and a nutritional recommendation.\n",
        "    \"\"\"\n",
        "    # Create a DataFrame from the input data\n",
        "    input_df = pd.DataFrame([input_data])\n",
        "\n",
        "    # Encode categorical features using the previously fitted LabelEncoders\n",
        "    for column, le in label_encoders.items():\n",
        "        try:\n",
        "            input_df[column] = le.transform(input_df[column].astype(str))\n",
        "        except ValueError:\n",
        "            input_df[column] = le.transform([le.classes_[0]])  # Set to a default label if unseen\n",
        "\n",
        "    # Handle missing values\n",
        "    input_df['Sleep Disorder'] = imputer.transform(input_df[['Sleep Disorder']])\n",
        "\n",
        "    # Scale features using the previously fitted StandardScaler\n",
        "    input_scaled = scaler.transform(input_df)\n",
        "\n",
        "    # Predict health status\n",
        "    health_prediction = svm_model.predict(input_scaled)\n",
        "    predicted_status = target_encoder.inverse_transform(health_prediction)[0]\n",
        "\n",
        "    # Access nutritional recommendation based on health status\n",
        "    # Use mode to get the most common recommendation for the predicted health status\n",
        "    recommendation = data.loc[data['Health Status'] == predicted_status, 'Nutritional Needs'].mode()[0]\n",
        "\n",
        "    return predicted_status, recommendation\n",
        "\n",
        "# Gather user input\n",
        "user_input_data = get_user_input()\n",
        "\n",
        "# Predict health status and get nutritional recommendation\n",
        "predicted_health_status, nutritional_recommendation = predict_health_and_nutrition(user_input_data)\n",
        "\n",
        "print(f\"Predicted Health Status: {predicted_health_status}\")\n",
        "print(f\"Nutritional Recommendation: {nutritional_recommendation}\")\n",
        "\n"
      ],
      "metadata": {
        "colab": {
          "base_uri": "https://localhost:8080/"
        },
        "id": "s8piEa1z-YQW",
        "outputId": "a5a96338-e326-4d45-f99f-7cf0af800a9a"
      },
      "execution_count": null,
      "outputs": [
        {
          "output_type": "stream",
          "name": "stdout",
          "text": [
            "Enter Gender (Male/Female): Male\n",
            "Enter Age: 21\n",
            "Enter Occupation (e.g., Scientist, Teacher, Artist): Engineer\n",
            "Enter Sleep Duration (hours): 8\n",
            "Enter Quality of Sleep (Excellent/Good/Fair/Poor): Poor\n",
            "Enter Physical Activity Level (Low/Medium/High): Low\n",
            "Enter Stress Level (Low/Medium/High): High\n",
            "Enter BMI Category (Underweight/Normal/Overweight/Obese): Obese\n",
            "Enter Blood Pressure Category (Normal/Prehypertension/Hypertension): Hypertension\n",
            "Enter Systolic Blood Pressure: 150\n",
            "Enter Diastolic Blood Pressure: 90\n",
            "Enter Heart Rate: 110\n",
            "Enter Daily Steps: 1000\n",
            "Enter Sleep Disorder (None, Insomnia, Sleep Apnea): None\n",
            "Predicted Health Status: Unhealthy\n",
            "Nutritional Recommendation: Increase magnesium, vitamin B6, and melatonin-rich foods. | High-carb and protein diet to support energy levels. | Low-calorie, high-fiber diet to support weight loss. | Low-sodium diet to manage blood pressure. | Maintain high-carb intake to support high activity level.\n"
          ]
        }
      ]
    },
    {
      "cell_type": "code",
      "source": [],
      "metadata": {
        "id": "9ZHXQVLtkzCf"
      },
      "execution_count": null,
      "outputs": []
    }
  ]
}